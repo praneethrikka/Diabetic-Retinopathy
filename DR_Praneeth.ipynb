{
  "cells": [
    {
      "cell_type": "code",
      "execution_count": null,
      "id": "756b22cd",
      "metadata": {
        "id": "756b22cd"
      },
      "outputs": [],
      "source": [
        "# importing Necessary Libraries\n",
        "import warnings\n",
        "warnings.filterwarnings(\"ignore\")\n",
        "import pandas as pd\n",
        "import numpy as np\n",
        "from tqdm import tqdm,tqdm_notebook\n",
        "import pickle\n",
        "import os\n",
        "from sklearn.manifold import TSNE\n",
        "import seaborn as sns\n",
        "import matplotlib.pyplot as plt\n",
        "from PIL import Image\n",
        "import cv2\n",
        "import keras\n",
        "from keras import applications\n",
        "from tensorflow.keras.utils import img_to_array, array_to_img,load_img\n",
        "from keras.preprocessing.image import ImageDataGenerator\n",
        "from keras import optimizers,Model,Sequential\n",
        "from keras.layers import Input,GlobalAveragePooling2D,Dropout,Dense,Activation,Flatten\n",
        "from keras.callbacks import EarlyStopping,ReduceLROnPlateau\n",
        "import pandas as pd\n",
        "from keras.layers import BatchNormalization\n",
        "from keras.layers import concatenate\n",
        "from keras.layers import GlobalMaxPooling2D\n",
        "import tensorflow as kf"
      ]
    },
    {
      "cell_type": "code",
      "execution_count": null,
      "id": "6158abd8",
      "metadata": {
        "id": "6158abd8"
      },
      "outputs": [],
      "source": [
        "# loading dataset\n",
        "df = pd.read_csv('DR_training.csv')\n",
        "pf = pd.read_csv(r'C:\\Users\\91957\\Desktop\\Rikka Praneeth\\label.csv')"
      ]
    },
    {
      "cell_type": "code",
      "execution_count": null,
      "id": "f70f7273",
      "metadata": {
        "id": "f70f7273"
      },
      "outputs": [],
      "source": [
        "df = df.drop('Unnamed: 0', axis = 1)\n",
        "pf = pf.drop('Unnamed: 0', axis = 1)"
      ]
    },
    {
      "cell_type": "code",
      "execution_count": null,
      "id": "a5067cb8",
      "metadata": {
        "id": "a5067cb8",
        "outputId": "8563ae24-b6c6-4999-9239-4cc566326260"
      },
      "outputs": [
        {
          "name": "stdout",
          "output_type": "stream",
          "text": [
            "(398, 2)\n"
          ]
        },
        {
          "data": {
            "text/plain": [
              "(1849, 2)"
            ]
          },
          "execution_count": 4,
          "metadata": {},
          "output_type": "execute_result"
        }
      ],
      "source": [
        "print(df.shape)\n",
        "pf.shape"
      ]
    },
    {
      "cell_type": "code",
      "execution_count": null,
      "id": "0acedc4b",
      "metadata": {
        "id": "0acedc4b",
        "outputId": "5d58a131-3cc9-4d83-cfae-2c7b9ecb0d86"
      },
      "outputs": [
        {
          "data": {
            "text/html": [
              "<div>\n",
              "<style scoped>\n",
              "    .dataframe tbody tr th:only-of-type {\n",
              "        vertical-align: middle;\n",
              "    }\n",
              "\n",
              "    .dataframe tbody tr th {\n",
              "        vertical-align: top;\n",
              "    }\n",
              "\n",
              "    .dataframe thead th {\n",
              "        text-align: right;\n",
              "    }\n",
              "</style>\n",
              "<table border=\"1\" class=\"dataframe\">\n",
              "  <thead>\n",
              "    <tr style=\"text-align: right;\">\n",
              "      <th></th>\n",
              "      <th>path</th>\n",
              "      <th>DR</th>\n",
              "    </tr>\n",
              "  </thead>\n",
              "  <tbody>\n",
              "    <tr>\n",
              "      <th>0</th>\n",
              "      <td>0005cfc8afb6.jpg</td>\n",
              "      <td>1</td>\n",
              "    </tr>\n",
              "    <tr>\n",
              "      <th>1</th>\n",
              "      <td>003f0afdcd15.jpg</td>\n",
              "      <td>1</td>\n",
              "    </tr>\n",
              "    <tr>\n",
              "      <th>2</th>\n",
              "      <td>006efc72b638.jpg</td>\n",
              "      <td>1</td>\n",
              "    </tr>\n",
              "    <tr>\n",
              "      <th>3</th>\n",
              "      <td>00836aaacf06.jpg</td>\n",
              "      <td>0</td>\n",
              "    </tr>\n",
              "    <tr>\n",
              "      <th>4</th>\n",
              "      <td>009245722fa4.jpg</td>\n",
              "      <td>0</td>\n",
              "    </tr>\n",
              "    <tr>\n",
              "      <th>...</th>\n",
              "      <td>...</td>\n",
              "      <td>...</td>\n",
              "    </tr>\n",
              "    <tr>\n",
              "      <th>1844</th>\n",
              "      <td>fef8e645d030.jpg</td>\n",
              "      <td>0</td>\n",
              "    </tr>\n",
              "    <tr>\n",
              "      <th>1845</th>\n",
              "      <td>ff2fd94448de.jpg</td>\n",
              "      <td>1</td>\n",
              "    </tr>\n",
              "    <tr>\n",
              "      <th>1846</th>\n",
              "      <td>ff4c945d9b17.jpg</td>\n",
              "      <td>0</td>\n",
              "    </tr>\n",
              "    <tr>\n",
              "      <th>1847</th>\n",
              "      <td>ff64897ac0d8.jpg</td>\n",
              "      <td>1</td>\n",
              "    </tr>\n",
              "    <tr>\n",
              "      <th>1848</th>\n",
              "      <td>ffa73465b705.jpg</td>\n",
              "      <td>1</td>\n",
              "    </tr>\n",
              "  </tbody>\n",
              "</table>\n",
              "<p>1849 rows × 2 columns</p>\n",
              "</div>"
            ],
            "text/plain": [
              "                  path  DR\n",
              "0     0005cfc8afb6.jpg   1\n",
              "1     003f0afdcd15.jpg   1\n",
              "2     006efc72b638.jpg   1\n",
              "3     00836aaacf06.jpg   0\n",
              "4     009245722fa4.jpg   0\n",
              "...                ...  ..\n",
              "1844  fef8e645d030.jpg   0\n",
              "1845  ff2fd94448de.jpg   1\n",
              "1846  ff4c945d9b17.jpg   0\n",
              "1847  ff64897ac0d8.jpg   1\n",
              "1848  ffa73465b705.jpg   1\n",
              "\n",
              "[1849 rows x 2 columns]"
            ]
          },
          "execution_count": 5,
          "metadata": {},
          "output_type": "execute_result"
        }
      ],
      "source": [
        "pf"
      ]
    },
    {
      "cell_type": "code",
      "execution_count": null,
      "id": "44ed97f2",
      "metadata": {
        "id": "44ed97f2"
      },
      "outputs": [],
      "source": [
        "# function help us to combine the original path were images are saved\n",
        "def shwa(x):\n",
        "    x = r'C:/Users/91957/Desktop/Rikka Praneeth/DR/training/' + x+'.jpg'\n",
        "    return x"
      ]
    },
    {
      "cell_type": "code",
      "execution_count": null,
      "id": "6cfb2c34",
      "metadata": {
        "id": "6cfb2c34"
      },
      "outputs": [],
      "source": [
        "df['path'] = df['path'].apply(shwa)"
      ]
    },
    {
      "cell_type": "code",
      "execution_count": null,
      "id": "9efd1409",
      "metadata": {
        "id": "9efd1409"
      },
      "outputs": [],
      "source": [
        "def pranee(x):\n",
        "    x = r'C:\\Users\\91957\\Desktop\\pre/' + x\n",
        "    return x"
      ]
    },
    {
      "cell_type": "code",
      "execution_count": null,
      "id": "0b9fd410",
      "metadata": {
        "id": "0b9fd410",
        "outputId": "73d83244-c498-41bf-87c5-9548b7f93b80"
      },
      "outputs": [
        {
          "data": {
            "text/plain": [
              "Index(['path', 'DR'], dtype='object')"
            ]
          },
          "execution_count": 9,
          "metadata": {},
          "output_type": "execute_result"
        }
      ],
      "source": [
        "df.columns"
      ]
    },
    {
      "cell_type": "code",
      "execution_count": null,
      "id": "37c5cf70",
      "metadata": {
        "id": "37c5cf70"
      },
      "outputs": [],
      "source": [
        "pf['path'] = pf['path'].apply(pranee)"
      ]
    },
    {
      "cell_type": "code",
      "execution_count": null,
      "id": "266ab95a",
      "metadata": {
        "id": "266ab95a"
      },
      "outputs": [],
      "source": [
        "def shwa_rp(x):\n",
        "    x = str(x)\n",
        "    return x"
      ]
    },
    {
      "cell_type": "code",
      "execution_count": null,
      "id": "e0af5acc",
      "metadata": {
        "id": "e0af5acc"
      },
      "outputs": [],
      "source": [
        "df['DR'] = df['DR'].apply(shwa_rp)\n",
        "pf['DR'] = pf['DR'].apply(shwa_rp)"
      ]
    },
    {
      "cell_type": "code",
      "execution_count": null,
      "id": "6b6128c8",
      "metadata": {
        "id": "6b6128c8",
        "outputId": "f2245e84-d612-4640-9b6c-5baadd827efe"
      },
      "outputs": [
        {
          "data": {
            "text/plain": [
              "'C:/Users/91957/Desktop/Rikka Praneeth/DR/training/IDRiD_001.jpg'"
            ]
          },
          "execution_count": 13,
          "metadata": {},
          "output_type": "execute_result"
        }
      ],
      "source": [
        "df['path'][0]"
      ]
    },
    {
      "cell_type": "code",
      "execution_count": null,
      "id": "614a94c7",
      "metadata": {
        "id": "614a94c7",
        "outputId": "330ba0f5-36c4-458a-c07a-96533cef0997"
      },
      "outputs": [
        {
          "data": {
            "text/plain": [
              "'C:\\\\Users\\\\91957\\\\Desktop\\\\pre/0005cfc8afb6.jpg'"
            ]
          },
          "execution_count": 14,
          "metadata": {},
          "output_type": "execute_result"
        }
      ],
      "source": [
        "pf['path'][0]"
      ]
    },
    {
      "cell_type": "code",
      "execution_count": null,
      "id": "413f5c63",
      "metadata": {
        "id": "413f5c63"
      },
      "outputs": [],
      "source": [
        "#generating images using image generator\n",
        "BATCH_SIZE = 8\n",
        "EPOCHS = 5\n",
        "WARMUP_EPOCHS = 2\n",
        "LEARNING_RATE = 1e-4\n",
        "WARMUP_LEARNING_RATE = 1e-3\n",
        "HEIGHT = 224\n",
        "WIDTH = 224\n",
        "CANAL = 3\n",
        "N_CLASSES = df['DR'].nunique()\n",
        "ES_PATIENCE = 5\n",
        "RLROP_PATIENCE = 3\n",
        "DECAY_DROP = 0.5\n",
        "def img_generator(train,test):\n",
        "    train_datagen=ImageDataGenerator(validation_split=0.2)\n",
        "\n",
        "    train_generator=train_datagen.flow_from_dataframe(dataframe=df,\n",
        "\n",
        "                                                      x_col=\"path\",\n",
        "                                                      y_col=\"DR\",\n",
        "                                                      batch_size=BATCH_SIZE,\n",
        "                                                      class_mode=\"binary\",\n",
        "                                                      target_size=(HEIGHT, WIDTH),\n",
        "                                                      subset='training')\n",
        "\n",
        "    valid_generator=train_datagen.flow_from_dataframe(dataframe=df,\n",
        "\n",
        "                                                      x_col=\"path\",\n",
        "                                                      y_col=\"DR\",\n",
        "                                                      batch_size=BATCH_SIZE,\n",
        "                                                      class_mode=\"binary\",\n",
        "                                                      target_size=(HEIGHT, WIDTH),\n",
        "                                                      subset='validation')\n",
        "\n",
        "    test_datagen = ImageDataGenerator()\n",
        "    test_generator = test_datagen.flow_from_dataframe(dataframe=pf,\n",
        "                                                      x_col=\"path\",\n",
        "                                                      target_size=(HEIGHT, WIDTH),\n",
        "                                                      batch_size=1,\n",
        "                                                      shuffle=False,\n",
        "                                                      class_mode=None)\n",
        "\n",
        "    return train_generator,valid_generator,test_generator"
      ]
    },
    {
      "cell_type": "code",
      "execution_count": null,
      "id": "07c5c5a7",
      "metadata": {
        "id": "07c5c5a7",
        "outputId": "d7be664e-9953-4daa-f239-b6ddfdceb660"
      },
      "outputs": [
        {
          "name": "stdout",
          "output_type": "stream",
          "text": [
            "Found 319 validated image filenames belonging to 2 classes.\n",
            "Found 79 validated image filenames belonging to 2 classes.\n",
            "Found 1849 validated image filenames.\n"
          ]
        }
      ],
      "source": [
        "train_generator,valid_generator,test_generator = img_generator(df,pf)"
      ]
    },
    {
      "cell_type": "code",
      "execution_count": null,
      "id": "f2195e29",
      "metadata": {
        "id": "f2195e29",
        "outputId": "5a663df4-f02e-43aa-de79-bb0462c2e4b1"
      },
      "outputs": [
        {
          "data": {
            "text/plain": [
              "(1849, 2)"
            ]
          },
          "execution_count": 17,
          "metadata": {},
          "output_type": "execute_result"
        }
      ],
      "source": [
        "pf.shape"
      ]
    },
    {
      "cell_type": "code",
      "execution_count": null,
      "id": "4c00cec5",
      "metadata": {
        "id": "4c00cec5",
        "outputId": "73cc7587-f673-4c92-a442-7c44b719a376"
      },
      "outputs": [
        {
          "name": "stdout",
          "output_type": "stream",
          "text": [
            "Model: \"sequential\"\n",
            "_________________________________________________________________\n",
            " Layer (type)                Output Shape              Param #   \n",
            "=================================================================\n",
            " resnet50 (Functional)       (None, 2048)              23587712  \n",
            "                                                                 \n",
            " flatten (Flatten)           (None, 2048)              0         \n",
            "                                                                 \n",
            " dense (Dense)               (None, 512)               1049088   \n",
            "                                                                 \n",
            " dense_1 (Dense)             (None, 1)                 513       \n",
            "                                                                 \n",
            "=================================================================\n",
            "Total params: 24,637,313\n",
            "Trainable params: 24,584,193\n",
            "Non-trainable params: 53,120\n",
            "_________________________________________________________________\n"
          ]
        }
      ],
      "source": [
        "# resent 50 model\n",
        "resnet_model = Sequential()\n",
        "pretrained_model= kf.keras.applications.ResNet50(include_top=False,\n",
        "                   input_shape=(224,224,3),\n",
        "                   pooling='max',classes=2,\n",
        "                   weights='imagenet')\n",
        "resnet_model.add(pretrained_model)\n",
        "resnet_model.add(Flatten())\n",
        "resnet_model.add(Dense(512, activation='relu'))\n",
        "resnet_model.add(Dense(1, activation='sigmoid'))\n",
        "resnet_model.compile(loss=keras.losses.binary_crossentropy,\n",
        "              optimizer=kf.optimizers.Adam(),\n",
        "              metrics=['accuracy'])\n",
        "resnet_model.summary()"
      ]
    },
    {
      "cell_type": "code",
      "execution_count": null,
      "id": "79bf5757",
      "metadata": {
        "scrolled": true,
        "id": "79bf5757",
        "outputId": "213a62c5-e2ad-428f-e074-b4e23b21a065"
      },
      "outputs": [
        {
          "name": "stdout",
          "output_type": "stream",
          "text": [
            "Epoch 1/10\n",
            "40/40 [==============================] - 192s 4s/step - loss: 5.7066 - accuracy: 0.6207 - val_loss: 0.0000e+00 - val_accuracy: 1.0000\n",
            "Epoch 2/10\n",
            "40/40 [==============================] - 150s 4s/step - loss: 4.0384 - accuracy: 0.5361 - val_loss: 0.0000e+00 - val_accuracy: 1.0000\n",
            "Epoch 3/10\n",
            "40/40 [==============================] - 142s 4s/step - loss: 2.6126 - accuracy: 0.5831 - val_loss: 135079.9219 - val_accuracy: 0.0000e+00\n",
            "Epoch 4/10\n",
            "40/40 [==============================] - 122s 3s/step - loss: 1.0247 - accuracy: 0.6207 - val_loss: 44.2173 - val_accuracy: 0.0886\n",
            "Epoch 5/10\n",
            "40/40 [==============================] - 118s 3s/step - loss: 0.7142 - accuracy: 0.6144 - val_loss: 1.2856 - val_accuracy: 0.2025\n",
            "Epoch 6/10\n",
            "40/40 [==============================] - 123s 3s/step - loss: 0.7269 - accuracy: 0.6552 - val_loss: 0.4337 - val_accuracy: 0.9747\n",
            "Epoch 7/10\n",
            "40/40 [==============================] - 122s 3s/step - loss: 0.6107 - accuracy: 0.7210 - val_loss: 0.9940 - val_accuracy: 0.5316\n",
            "Epoch 8/10\n",
            "40/40 [==============================] - 126s 3s/step - loss: 0.7032 - accuracy: 0.6740 - val_loss: 0.7094 - val_accuracy: 0.6456\n",
            "Epoch 9/10\n",
            "40/40 [==============================] - 129s 3s/step - loss: 0.5842 - accuracy: 0.7461 - val_loss: 0.5594 - val_accuracy: 0.6456\n",
            "Epoch 10/10\n",
            "40/40 [==============================] - 118s 3s/step - loss: 0.5394 - accuracy: 0.7367 - val_loss: 0.3411 - val_accuracy: 0.8354\n"
          ]
        },
        {
          "data": {
            "text/plain": [
              "<keras.callbacks.History at 0x2543c994bb0>"
            ]
          },
          "execution_count": 19,
          "metadata": {},
          "output_type": "execute_result"
        }
      ],
      "source": [
        "# model fitting\n",
        "resnet_model.fit(train_generator, batch_size = BATCH_SIZE, epochs = 10, verbose = 1, validation_data = valid_generator)"
      ]
    },
    {
      "cell_type": "code",
      "execution_count": null,
      "id": "334bc3dd",
      "metadata": {
        "scrolled": true,
        "id": "334bc3dd",
        "outputId": "5fd2139c-664e-4ff0-86ba-d722cc4739ef"
      },
      "outputs": [
        {
          "name": "stdout",
          "output_type": "stream",
          "text": [
            "ResNet50 Accuracy score : 0.508\n"
          ]
        },
        {
          "data": {
            "image/png": "[encoded data removed]",
            "text/plain": [
              "<Figure size 1600x700 with 2 Axes>"
            ]
          },
          "metadata": {},
          "output_type": "display_data"
        }
      ],
      "source": [
        "# model predictions\n",
        "train_preds1 =resnet_model.predict_generator(test_generator)#predicting test data using ResNet50\n",
        "y_pred1 =list()\n",
        "for i in train_preds1:\n",
        "    y_pred1.append(round(i[0]))\n",
        "from sklearn.metrics import confusion_matrix, cohen_kappa_score,accuracy_score\n",
        "p=confusion_matrix(pf['DR'].astype(\"int\"),y_pred1)\n",
        "import seaborn as sns\n",
        "plt.figure(figsize=(16, 7))\n",
        "sns.heatmap(p,annot=True)#ploting confusion matrix\n",
        "print(\"ResNet50 Accuracy score : %.3f\" % accuracy_score(pf['DR'].astype('int'),y_pred1))#finding accuracy'''"
      ]
    },
    {
      "cell_type": "code",
      "execution_count": null,
      "id": "85e4e471",
      "metadata": {
        "id": "85e4e471"
      },
      "outputs": [],
      "source": []
    },
    {
      "cell_type": "code",
      "execution_count": null,
      "id": "50db3e42",
      "metadata": {
        "id": "50db3e42"
      },
      "outputs": [],
      "source": []
    },
    {
      "cell_type": "code",
      "execution_count": null,
      "id": "21a794ca",
      "metadata": {
        "id": "21a794ca"
      },
      "outputs": [],
      "source": []
    },
    {
      "cell_type": "code",
      "execution_count": null,
      "id": "6bce0f57",
      "metadata": {
        "id": "6bce0f57"
      },
      "outputs": [],
      "source": []
    },
    {
      "cell_type": "code",
      "execution_count": null,
      "id": "6c561882",
      "metadata": {
        "id": "6c561882"
      },
      "outputs": [],
      "source": []
    }
  ],
  "metadata": {
    "kernelspec": {
      "display_name": "Python 3 (ipykernel)",
      "language": "python",
      "name": "python3"
    },
    "language_info": {
      "codemirror_mode": {
        "name": "ipython",
        "version": 3
      },
      "file_extension": ".py",
      "mimetype": "text/x-python",
      "name": "python",
      "nbconvert_exporter": "python",
      "pygments_lexer": "ipython3",
      "version": "3.10.9"
    },
    "colab": {
      "provenance": []
    }
  },
  "nbformat": 4,
  "nbformat_minor": 5
}